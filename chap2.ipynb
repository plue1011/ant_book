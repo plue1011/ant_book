{
 "cells": [
  {
   "cell_type": "markdown",
   "metadata": {},
   "source": [
    "# 2-1"
   ]
  },
  {
   "cell_type": "markdown",
   "metadata": {},
   "source": [
    "## 再帰関数"
   ]
  },
  {
   "cell_type": "code",
   "execution_count": 3,
   "metadata": {},
   "outputs": [
    {
     "data": {
      "text/plain": [
       "6"
      ]
     },
     "execution_count": 3,
     "metadata": {},
     "output_type": "execute_result"
    }
   ],
   "source": [
    "def fact(n):\n",
    "    if n == 0:\n",
    "        return 1\n",
    "    else:\n",
    "        return n * fact(n-1)\n",
    "fact(3)"
   ]
  },
  {
   "cell_type": "code",
   "execution_count": 10,
   "metadata": {},
   "outputs": [
    {
     "data": {
      "text/plain": [
       "2"
      ]
     },
     "execution_count": 10,
     "metadata": {},
     "output_type": "execute_result"
    }
   ],
   "source": [
    "def fib(n):\n",
    "    if n <= 1:\n",
    "        return n\n",
    "    else:\n",
    "        return fib(n-1) + fib(n-2)\n",
    "fib(3)"
   ]
  },
  {
   "cell_type": "code",
   "execution_count": 123,
   "metadata": {},
   "outputs": [
    {
     "data": {
      "text/plain": [
       "55"
      ]
     },
     "execution_count": 123,
     "metadata": {},
     "output_type": "execute_result"
    }
   ],
   "source": [
    "memo = [0 for i in range(1000)]\n",
    "\n",
    "def fib_memo(n):\n",
    "    if n <= 1:\n",
    "        return n\n",
    "    elif memo[n] != 0:\n",
    "        return memo[n]\n",
    "    else:\n",
    "        memo[n] = fib_memo(n-1) + fib_memo(n-2)\n",
    "        return memo[n]\n",
    "fib_memo(10)"
   ]
  },
  {
   "cell_type": "code",
   "execution_count": 124,
   "metadata": {},
   "outputs": [
    {
     "name": "stdout",
     "output_type": "stream",
     "text": [
      "832040\n",
      "CPU times: user 487 ms, sys: 4.65 ms, total: 491 ms\n",
      "Wall time: 492 ms\n",
      "832040\n",
      "CPU times: user 62 µs, sys: 17 µs, total: 79 µs\n",
      "Wall time: 68.9 µs\n"
     ]
    }
   ],
   "source": [
    "%time print(fib(30))\n",
    "%time print(fib_memo(30))"
   ]
  },
  {
   "cell_type": "markdown",
   "metadata": {},
   "source": [
    "メモ化したことによって速くなった"
   ]
  },
  {
   "cell_type": "markdown",
   "metadata": {},
   "source": [
    "## スタック"
   ]
  },
  {
   "cell_type": "code",
   "execution_count": 32,
   "metadata": {},
   "outputs": [
    {
     "name": "stdout",
     "output_type": "stream",
     "text": [
      "[]\n",
      "[1]\n",
      "[1, 2]\n",
      "[1, 2, 3]\n",
      "[1, 2]\n",
      "[1]\n",
      "[]\n",
      "CPU times: user 607 µs, sys: 740 µs, total: 1.35 ms\n",
      "Wall time: 1.59 ms\n"
     ]
    }
   ],
   "source": [
    "%%time\n",
    "s = []\n",
    "print(s)\n",
    "s.append(1)\n",
    "print(s)\n",
    "s.append(2)\n",
    "print(s)\n",
    "s.append(3)\n",
    "print(s)\n",
    "s.pop()\n",
    "print(s)\n",
    "s.pop()\n",
    "print(s)\n",
    "s.pop()\n",
    "print(s)"
   ]
  },
  {
   "cell_type": "code",
   "execution_count": 26,
   "metadata": {},
   "outputs": [],
   "source": [
    "from collections import deque"
   ]
  },
  {
   "cell_type": "code",
   "execution_count": 31,
   "metadata": {},
   "outputs": [
    {
     "name": "stdout",
     "output_type": "stream",
     "text": [
      "deque([])\n",
      "deque([1])\n",
      "deque([1, 2])\n",
      "deque([1, 2, 3])\n",
      "deque([1, 2])\n",
      "deque([1])\n",
      "deque([])\n",
      "CPU times: user 422 µs, sys: 89 µs, total: 511 µs\n",
      "Wall time: 519 µs\n"
     ]
    }
   ],
   "source": [
    "%%time\n",
    "s = deque([])\n",
    "print(s)\n",
    "s.append(1)\n",
    "print(s)\n",
    "s.append(2)\n",
    "print(s)\n",
    "s.append(3)\n",
    "print(s)\n",
    "s.pop()\n",
    "print(s)\n",
    "s.pop()\n",
    "print(s)\n",
    "s.pop()\n",
    "print(s)"
   ]
  },
  {
   "cell_type": "markdown",
   "metadata": {},
   "source": [
    "## キュー"
   ]
  },
  {
   "cell_type": "code",
   "execution_count": 52,
   "metadata": {
    "scrolled": true
   },
   "outputs": [
    {
     "name": "stdout",
     "output_type": "stream",
     "text": [
      "[]\n",
      "[1]\n",
      "[1, 2]\n",
      "[1, 2, 3]\n",
      "[2, 3]\n",
      "[3]\n",
      "[]\n",
      "CPU times: user 487 µs, sys: 231 µs, total: 718 µs\n",
      "Wall time: 981 µs\n"
     ]
    }
   ],
   "source": [
    "%%time\n",
    "q = []\n",
    "print(q)\n",
    "q.append(1)\n",
    "print(q)\n",
    "q.append(2)\n",
    "print(q)\n",
    "q.append(3)\n",
    "print(q)\n",
    "q.pop(0)\n",
    "print(q)\n",
    "q.pop(0)\n",
    "print(q)\n",
    "q.pop(0)\n",
    "print(q)"
   ]
  },
  {
   "cell_type": "code",
   "execution_count": 44,
   "metadata": {},
   "outputs": [],
   "source": [
    "from collections import deque"
   ]
  },
  {
   "cell_type": "code",
   "execution_count": 53,
   "metadata": {},
   "outputs": [
    {
     "name": "stdout",
     "output_type": "stream",
     "text": [
      "deque([])\n",
      "deque([1])\n",
      "deque([1, 2])\n",
      "deque([1, 2, 3])\n",
      "deque([2, 3])\n",
      "deque([3])\n",
      "deque([])\n",
      "CPU times: user 602 µs, sys: 698 µs, total: 1.3 ms\n",
      "Wall time: 1.59 ms\n"
     ]
    }
   ],
   "source": [
    "%%time\n",
    "q = deque([])\n",
    "print(q)\n",
    "q.append(1)\n",
    "print(q)\n",
    "q.append(2)\n",
    "print(q)\n",
    "q.append(3)\n",
    "print(q)\n",
    "q.popleft()\n",
    "print(q)\n",
    "q.popleft()\n",
    "print(q)\n",
    "q.popleft()\n",
    "print(q)"
   ]
  },
  {
   "cell_type": "markdown",
   "metadata": {},
   "source": [
    "http://yoshidabenjiro.hatenablog.com/entry/2017/06/08/190929  \n",
    "listの中身が大きくなると、dequeを使用した方が速くなるらしい"
   ]
  },
  {
   "cell_type": "markdown",
   "metadata": {},
   "source": [
    "## 深さ優先探索"
   ]
  },
  {
   "cell_type": "markdown",
   "metadata": {},
   "source": [
    "### 部分和問題"
   ]
  },
  {
   "cell_type": "code",
   "execution_count": 110,
   "metadata": {},
   "outputs": [
    {
     "name": "stdout",
     "output_type": "stream",
     "text": [
      "4\n",
      "1 2 4 7\n",
      "13\n"
     ]
    }
   ],
   "source": [
    "n = int(input())\n",
    "a = input().split()\n",
    "a = [int(i) for i in a]\n",
    "k = int(input())"
   ]
  },
  {
   "cell_type": "code",
   "execution_count": 111,
   "metadata": {},
   "outputs": [
    {
     "name": "stdout",
     "output_type": "stream",
     "text": [
      "Yes\n"
     ]
    }
   ],
   "source": [
    "def dfs_sum(i, summation):\n",
    "    if i == n:\n",
    "        return summation == k\n",
    "    if dfs_sum(i+1, summation):\n",
    "        return True\n",
    "    if dfs_sum(i+1, summation+a[i]):\n",
    "        return True\n",
    "    return False\n",
    "\n",
    "def solve():\n",
    "    if dfs_sum(0, 0):\n",
    "        print(\"Yes\")\n",
    "    else:\n",
    "        print(\"No\")\n",
    "\n",
    "\n",
    "solve()"
   ]
  },
  {
   "cell_type": "markdown",
   "metadata": {},
   "source": [
    "### Lake Couting"
   ]
  },
  {
   "cell_type": "code",
   "execution_count": 108,
   "metadata": {
    "scrolled": true
   },
   "outputs": [
    {
     "name": "stdout",
     "output_type": "stream",
     "text": [
      "3\n"
     ]
    }
   ],
   "source": [
    "def dfs_lake(x, y):\n",
    "    field[x][y] = \".\"\n",
    "    \n",
    "    for dx in [-1, 0, 1]:\n",
    "        for dy in [-1, 0, 1]:\n",
    "            nx = x + dx\n",
    "            ny = y + dy\n",
    "            \n",
    "            if (0 <= nx < N) and (0 <= ny < M) and (field[nx][ny] == \"W\"):\n",
    "                dfs_lake(nx, ny)\n",
    "\n",
    "def solve():\n",
    "    res = 0\n",
    "    for i in range(N):\n",
    "        for j in range(M):\n",
    "            if field[i][j] == \"W\":\n",
    "                dfs_lake(i, j)\n",
    "                res += 1\n",
    "    print(res)\n",
    "\n",
    "field = [[\"W\",\".\",\".\",\".\",\".\",\".\",\".\",\".\",\".\",\"W\",\"W\",\".\"],\n",
    "         [\".\",\"W\",\"W\",\"W\",\"W\",\"W\",\".\",\".\",\".\",\"W\",\"W\",\"W\"],\n",
    "         [\".\",\".\",\".\",\".\",\"W\",\"W\",\".\",\".\",\".\",\"W\",\"W\",\".\"],\n",
    "         [\".\",\".\",\".\",\".\",\".\",\".\",\".\",\".\",\".\",\"W\",\"W\",\".\"],\n",
    "         [\".\",\".\",\".\",\".\",\".\",\".\",\".\",\".\",\".\",\"W\",\"W\",\".\"],\n",
    "         [\".\",\".\",\".\",\".\",\".\",\".\",\".\",\".\",\".\",\"W\",\".\",\".\"],\n",
    "         [\".\",\".\",\"W\",\".\",\".\",\".\",\".\",\".\",\".\",\"W\",\".\",\".\"],\n",
    "         [\".\",\"W\",\".\",\"W\",\".\",\".\",\".\",\".\",\".\",\"W\",\"W\",\".\"],\n",
    "         [\"W\",\".\",\"W\",\".\",\"W\",\".\",\".\",\".\",\".\",\".\",\"W\",\".\"],\n",
    "         [\".\",\"W\",\".\",\"W\",\".\",\".\",\".\",\".\",\".\",\".\",\"W\",\".\"]\n",
    "        ]\n",
    "N = 10\n",
    "M = 12\n",
    "    \n",
    "solve()"
   ]
  },
  {
   "cell_type": "markdown",
   "metadata": {},
   "source": [
    "# 幅優先探索"
   ]
  },
  {
   "cell_type": "markdown",
   "metadata": {},
   "source": [
    "### 迷路の最短路"
   ]
  },
  {
   "cell_type": "code",
   "execution_count": 118,
   "metadata": {},
   "outputs": [
    {
     "name": "stdout",
     "output_type": "stream",
     "text": [
      "22\n"
     ]
    }
   ],
   "source": [
    "maze = [[\"#\",\"S\",\"#\",\"#\",\"#\",\"#\",\"#\",\"#\",\".\",\"#\"],\n",
    "        [\".\",\".\",\".\",\".\",\".\",\".\",\"#\",\".\",\".\",\"#\"],\n",
    "        [\".\",\"#\",\".\",\"#\",\"#\",\".\",\"#\",\"#\",\".\",\"#\"],\n",
    "        [\".\",\"#\",\".\",\".\",\".\",\".\",\".\",\".\",\".\",\".\"],\n",
    "        [\"#\",\"#\",\".\",\"#\",\"#\",\".\",\"#\",\"#\",\"#\",\"#\"],\n",
    "        [\".\",\".\",\".\",\".\",\"#\",\".\",\".\",\".\",\".\",\"#\"],\n",
    "        [\".\",\"#\",\"#\",\"#\",\"#\",\"#\",\"#\",\"#\",\".\",\"#\"],\n",
    "        [\".\",\".\",\".\",\".\",\"#\",\".\",\".\",\".\",\".\",\".\"],\n",
    "        [\".\",\"#\",\"#\",\"#\",\"#\",\".\",\"#\",\"#\",\"#\",\".\"],\n",
    "        [\".\",\".\",\".\",\".\",\"#\",\".\",\".\",\".\",\"G\",\"#\"]\n",
    "       ]\n",
    "\n",
    "N = 10\n",
    "M = 10\n",
    "\n",
    "for i in range(N):\n",
    "    for j in range(M):\n",
    "        # スタートとゴールの座標を探す\n",
    "        if maze[i][j] == \"S\":\n",
    "            sx = i\n",
    "            sy = j\n",
    "        if maze[i][j] == \"G\":\n",
    "            gx = i\n",
    "            gy = j\n",
    "\n",
    "dx = [1, 0, -1, 0]\n",
    "dy = [0, 1, 0, -1]\n",
    "\n",
    "def bfs_maze():\n",
    "    que = deque([])\n",
    "    d = [[float(\"inf\")] * M for i in range(N)]\n",
    "    que.append((sx,sy))\n",
    "    d[sx][sy] = 0\n",
    "    \n",
    "    while que:\n",
    "        p = que.popleft()\n",
    "        if (p[0] == gx) and (p[1] == gy):\n",
    "            break\n",
    "        for i in range(4):\n",
    "            nx = p[0] + dx[i]\n",
    "            ny = p[1] + dy[i]\n",
    "            \n",
    "            if (0 <= nx < N) and (0 <= ny < M) and (maze[nx][ny] != \"#\") and (d[nx][ny] == float(\"inf\")):\n",
    "                que.append((nx, ny))\n",
    "                d[nx][ny] = d[p[0]][p[1]] + 1\n",
    "    return d[gx][gy]\n",
    "\n",
    "def solve():\n",
    "    res = bfs_maze()\n",
    "    print(res)\n",
    "solve()"
   ]
  },
  {
   "cell_type": "markdown",
   "metadata": {},
   "source": [
    "## 特殊な状態の列挙"
   ]
  },
  {
   "cell_type": "code",
   "execution_count": 120,
   "metadata": {},
   "outputs": [],
   "source": [
    "import itertools"
   ]
  },
  {
   "cell_type": "code",
   "execution_count": 121,
   "metadata": {},
   "outputs": [
    {
     "name": "stdout",
     "output_type": "stream",
     "text": [
      "(0, 1, 2)\n",
      "(0, 2, 1)\n",
      "(1, 0, 2)\n",
      "(1, 2, 0)\n",
      "(2, 0, 1)\n",
      "(2, 1, 0)\n"
     ]
    }
   ],
   "source": [
    "# 順列\n",
    "for i in itertools.permutations([0, 1, 2], 3):\n",
    "    print(i)"
   ]
  },
  {
   "cell_type": "code",
   "execution_count": 122,
   "metadata": {},
   "outputs": [
    {
     "name": "stdout",
     "output_type": "stream",
     "text": [
      "(0, 1)\n",
      "(0, 2)\n",
      "(1, 2)\n"
     ]
    }
   ],
   "source": [
    "# 組み合わせ\n",
    "# combinations(list, n) で list から n 個選ぶ\n",
    "for i in itertools.combinations([0, 1, 2], 2):\n",
    "    print(i)"
   ]
  },
  {
   "cell_type": "markdown",
   "metadata": {},
   "source": [
    "# 2-2"
   ]
  },
  {
   "cell_type": "markdown",
   "metadata": {},
   "source": [
    "## 硬貨の問題"
   ]
  },
  {
   "cell_type": "code",
   "execution_count": 135,
   "metadata": {},
   "outputs": [
    {
     "name": "stdout",
     "output_type": "stream",
     "text": [
      "3 2 1 3 0 2\n",
      "620\n",
      "6\n"
     ]
    }
   ],
   "source": [
    "V = [1, 5, 10, 50, 100, 500]\n",
    "\n",
    "C = list(map(int, input().split()))\n",
    "A = int(input())\n",
    "\n",
    "def solve(A,V,C):\n",
    "    ans = 0\n",
    "    \n",
    "    for i in range(5, 0, -1):\n",
    "        # 与えられる枚数以内に抑えるためmin\n",
    "        t = min(A//V[i], C[i])\n",
    "        A -= t*V[i]\n",
    "        ans += t\n",
    "    print(ans)\n",
    "solve(A,V,C)"
   ]
  },
  {
   "cell_type": "markdown",
   "metadata": {},
   "source": [
    "## 区間スケジューリング問題"
   ]
  },
  {
   "cell_type": "code",
   "execution_count": 138,
   "metadata": {},
   "outputs": [
    {
     "name": "stdout",
     "output_type": "stream",
     "text": [
      "5\n",
      "1 2 4 6 8\n",
      "3 5 7 9 10\n",
      "3\n"
     ]
    }
   ],
   "source": [
    "from operator import itemgetter\n",
    "\n",
    "N = int(input())\n",
    "S = list(map(int, input().split()))\n",
    "T = list(map(int, input().split()))\n",
    "\n",
    "def solve(N, S, T):\n",
    "    # 多次元リストの sort に使える\n",
    "    itv = [(S[i], T[i]) for i in range(N)]\n",
    "    itv = sorted(itv, key=itemgetter(1))\n",
    "    \n",
    "    ans = 0\n",
    "    t = 0\n",
    "    for i in range(N):\n",
    "        if t < itv[i][0]:\n",
    "            ans += 1\n",
    "            t = itv[i][1]\n",
    "    print(ans)\n",
    "solve(N, S, T)"
   ]
  },
  {
   "cell_type": "markdown",
   "metadata": {},
   "source": [
    "## Best Cow Line"
   ]
  },
  {
   "cell_type": "code",
   "execution_count": 155,
   "metadata": {},
   "outputs": [
    {
     "name": "stdout",
     "output_type": "stream",
     "text": [
      "6\n",
      "ACDBCB\n",
      "ABCBCD\n"
     ]
    }
   ],
   "source": [
    "N = int(input())\n",
    "S = input()\n",
    "\n",
    "def solve_1(N, S):\n",
    "    a = 0\n",
    "    b = N-1\n",
    "    \n",
    "    T = \"\"\n",
    "    \n",
    "    while a <= b:\n",
    "        left = False\n",
    "        i = 0\n",
    "        while a+i <= b:\n",
    "            if S[a+i] < S[b-i]:\n",
    "                left = True\n",
    "                break\n",
    "            elif S[a+i] > S[b-i]:\n",
    "                left = False\n",
    "                break\n",
    "            i += 1\n",
    "        if left:\n",
    "            T += S[a]\n",
    "            a += 1\n",
    "        else:\n",
    "            T += S[b]\n",
    "            b -= 1\n",
    "    print(T)\n",
    "    \n",
    "solve_1(N, S)"
   ]
  },
  {
   "cell_type": "markdown",
   "metadata": {},
   "source": [
    "## Saruman's Army"
   ]
  },
  {
   "cell_type": "code",
   "execution_count": 156,
   "metadata": {},
   "outputs": [
    {
     "name": "stdout",
     "output_type": "stream",
     "text": [
      "6\n",
      "10\n",
      "1 7 15 20 30 50\n",
      "3\n"
     ]
    }
   ],
   "source": [
    "N = int(input())\n",
    "R = int(input())\n",
    "X = list(map(int, input().split()))\n",
    "\n",
    "def solve(N, R, X):\n",
    "    i = 0\n",
    "    ans = 0\n",
    "    while i < N:\n",
    "        s = X[i]\n",
    "        i += 1\n",
    "        \n",
    "        while (i < N) and (X[i] <= s+R):\n",
    "            i += 1\n",
    "        p = X[i-1]\n",
    "        while (i < N) and (X[i] <= p+R):\n",
    "            i += 1\n",
    "        ans += 1\n",
    "    print(ans)\n",
    "\n",
    "solve(N ,R, X)"
   ]
  },
  {
   "cell_type": "markdown",
   "metadata": {},
   "source": [
    "## Fence Repair"
   ]
  },
  {
   "cell_type": "code",
   "execution_count": 169,
   "metadata": {
    "scrolled": true
   },
   "outputs": [
    {
     "name": "stdout",
     "output_type": "stream",
     "text": [
      "3\n",
      "8 5 8\n",
      "34\n"
     ]
    }
   ],
   "source": [
    "N = int(input())\n",
    "L = list(map(int, input().split()))\n",
    "\n",
    "def solve(N, L):\n",
    "    ans = 0\n",
    "    while N > 1:\n",
    "        # 一番短い板 mii1 、次に短い板 mii2 を求める\n",
    "        mii1 = 0\n",
    "        mii2 = 1\n",
    "\n",
    "        if L[mii1] > L[mii2]:\n",
    "            mii1, mii2 = mii2, mii1\n",
    "\n",
    "        for i in range(2, N):\n",
    "            if L[i] < L[mii1]:\n",
    "                mii2 = mii1\n",
    "                mii1 = i\n",
    "            elif L[i] < L[mii2]:\n",
    "                mii2 = i\n",
    "\n",
    "        # それらを併合\n",
    "        t = L[mii1] + L[mii2]\n",
    "        ans += t\n",
    "\n",
    "        # 併合した長さをL[mii1]に入れると、L[mii2]は統合されているため空きになる\n",
    "        # よって、L[mii2]に一番後ろから値を持ってきて、Nをデクリメントして見えないようにしている\n",
    "        if mii1 == N - 1:\n",
    "            mii1, mii2 = mii2, mii1\n",
    "        L[mii1] = t\n",
    "        L[mii2] = L[N - 1]\n",
    "        N -= 1\n",
    "\n",
    "    print(ans)\n",
    "solve(N, L)"
   ]
  },
  {
   "cell_type": "markdown",
   "metadata": {},
   "source": [
    "# 2-3"
   ]
  },
  {
   "cell_type": "markdown",
   "metadata": {},
   "source": [
    "## ナップサック問題"
   ]
  },
  {
   "cell_type": "code",
   "execution_count": 1,
   "metadata": {},
   "outputs": [
    {
     "name": "stdout",
     "output_type": "stream",
     "text": [
      "4\n",
      "5\n",
      "2 1 3 2\n",
      "3 2 4 2\n"
     ]
    }
   ],
   "source": [
    "n = int(input())\n",
    "W = int(input())\n",
    "w = list(map(int, input().split()))\n",
    "v = list(map(int, input().split()))"
   ]
  },
  {
   "cell_type": "code",
   "execution_count": 2,
   "metadata": {},
   "outputs": [
    {
     "name": "stdout",
     "output_type": "stream",
     "text": [
      "7\n"
     ]
    }
   ],
   "source": [
    "def rec(i, j):\n",
    "    # 全ての品物を見終わった\n",
    "    if i == n:\n",
    "        res = 0\n",
    "    \n",
    "    # 品物が入らないのでスルー\n",
    "    elif j < w[i]:\n",
    "        res = rec(i+1, j)\n",
    "    else:\n",
    "        # iを入れないでスルーする場合\n",
    "        # iを入れて、重さを減らして、価値を増やす場合\n",
    "        # 両者のmaxをとる\n",
    "        res = max(rec(i+1, j), rec(i+1, j-w[i]) + v[i])\n",
    "\n",
    "    return res\n",
    "\n",
    "def solve(W):\n",
    "    print(rec(0, W))\n",
    "\n",
    "solve(W)"
   ]
  },
  {
   "cell_type": "code",
   "execution_count": 3,
   "metadata": {},
   "outputs": [
    {
     "name": "stdout",
     "output_type": "stream",
     "text": [
      "7\n"
     ]
    }
   ],
   "source": [
    "# dp = [[-1 for i in range(W+1)] for j in range(n+1)]\n",
    "def rec_memo(i, j):\n",
    "    if dp[i][j] >= 0:\n",
    "        return dp[i][j]\n",
    "    if i == n:\n",
    "        res = 0\n",
    "    elif j < w[i]:\n",
    "        res = rec_memo(i+1, j)\n",
    "    else:\n",
    "        res = max(rec_memo(i+1, j), rec_memo(i+1, j-w[i]) + v[i])\n",
    "    dp[i][j] = res\n",
    "    return dp[i][j]\n",
    "\n",
    "def solve_memo(W):\n",
    "    global dp\n",
    "    dp = [[-1 for i in range(W+1)] for j in range(n+1)]\n",
    "    print(rec_memo(0, W))\n",
    "\n",
    "solve_memo(W)"
   ]
  },
  {
   "cell_type": "code",
   "execution_count": 4,
   "metadata": {},
   "outputs": [
    {
     "data": {
      "text/plain": [
       "[[-1, -1, -1, -1, -1, 7],\n",
       " [-1, -1, -1, 4, -1, 6],\n",
       " [-1, -1, 2, 4, 4, 6],\n",
       " [0, 0, 2, 2, 2, 2],\n",
       " [0, 0, 0, 0, 0, 0]]"
      ]
     },
     "execution_count": 4,
     "metadata": {},
     "output_type": "execute_result"
    }
   ],
   "source": [
    "dp"
   ]
  },
  {
   "cell_type": "code",
   "execution_count": null,
   "metadata": {},
   "outputs": [],
   "source": [
    "dp = [[0 for i in range(W+1)] for j in range(n+1)]\n",
    "\n",
    "for i in range(n-1,-1,-1):\n",
    "    for j in range(W+1):\n",
    "        if j < w[i]:\n",
    "            dp[i][j] = dp[i+1][j]\n",
    "        else:\n",
    "            dp[i][j] = max(dp[i+1][j],dp[i+1][j-w[i]]+v[i])\n",
    "print(dp[0][W])"
   ]
  },
  {
   "cell_type": "code",
   "execution_count": null,
   "metadata": {},
   "outputs": [],
   "source": []
  }
 ],
 "metadata": {
  "kernelspec": {
   "display_name": "Python 3",
   "language": "python",
   "name": "python3"
  },
  "language_info": {
   "codemirror_mode": {
    "name": "ipython",
    "version": 3
   },
   "file_extension": ".py",
   "mimetype": "text/x-python",
   "name": "python",
   "nbconvert_exporter": "python",
   "pygments_lexer": "ipython3",
   "version": "3.7.4"
  }
 },
 "nbformat": 4,
 "nbformat_minor": 2
}
