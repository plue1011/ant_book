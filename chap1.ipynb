{
 "cells": [
  {
   "cell_type": "markdown",
   "metadata": {},
   "source": [
    "# 1-1"
   ]
  },
  {
   "cell_type": "markdown",
   "metadata": {},
   "source": [
    "### くじ引き"
   ]
  },
  {
   "cell_type": "code",
   "execution_count": 59,
   "metadata": {},
   "outputs": [
    {
     "name": "stdout",
     "output_type": "stream",
     "text": [
      "3\n",
      "10\n",
      "2 3 5\n"
     ]
    }
   ],
   "source": [
    "n = int(input())\n",
    "m = int(input())\n",
    "k = input().split()\n",
    "k = [int(i) for i in k]"
   ]
  },
  {
   "cell_type": "code",
   "execution_count": 60,
   "metadata": {},
   "outputs": [
    {
     "name": "stdout",
     "output_type": "stream",
     "text": [
      "Yes\n"
     ]
    }
   ],
   "source": [
    "def kujibiki(n, m, k):\n",
    "    f = 0\n",
    "    for a in range(n):\n",
    "        for b in range(n):\n",
    "            for c in range(n):\n",
    "                for d in range(n):\n",
    "                    if (k[a] + k[b] + k[c] + k[d]) == m:\n",
    "                        f = True\n",
    "    if f:\n",
    "        print(\"Yes\")\n",
    "    else:\n",
    "        print(\"No\")\n",
    "kujibiki(n, m, k)"
   ]
  },
  {
   "cell_type": "markdown",
   "metadata": {},
   "source": [
    "# 1-6"
   ]
  },
  {
   "cell_type": "markdown",
   "metadata": {},
   "source": [
    "## 三角形"
   ]
  },
  {
   "cell_type": "code",
   "execution_count": 41,
   "metadata": {},
   "outputs": [
    {
     "name": "stdout",
     "output_type": "stream",
     "text": [
      "5\n",
      "2 3 4 5 10\n"
     ]
    }
   ],
   "source": [
    "n = int(input())\n",
    "a = input().split()\n",
    "a = [int(i) for i in a]"
   ]
  },
  {
   "cell_type": "code",
   "execution_count": 44,
   "metadata": {},
   "outputs": [
    {
     "name": "stdout",
     "output_type": "stream",
     "text": [
      "12\n"
     ]
    }
   ],
   "source": [
    "def tri_max(a, n):\n",
    "    a = sorted(a)\n",
    "    max_len = 0\n",
    "    for i in range(n):\n",
    "        for j in range(i+1,n):\n",
    "            for k in range(j+1,n):\n",
    "                #三角形を形成するのか判定\n",
    "                if a[k] < a[i] + a[j]:\n",
    "                    t = a[k] + a[i] + a[j]\n",
    "                    max_len = max(t, max_len)\n",
    "    print(max_len)\n",
    "tri_max(a, n)"
   ]
  },
  {
   "cell_type": "markdown",
   "metadata": {},
   "source": [
    "## Ants"
   ]
  },
  {
   "cell_type": "code",
   "execution_count": 3,
   "metadata": {},
   "outputs": [
    {
     "name": "stdout",
     "output_type": "stream",
     "text": [
      "10\n",
      "3\n",
      "2 6 7\n"
     ]
    }
   ],
   "source": [
    "L = int(input())\n",
    "n = int(input())\n",
    "x = input().split()\n",
    "x = [int(i) for i in x]"
   ]
  },
  {
   "cell_type": "code",
   "execution_count": 4,
   "metadata": {},
   "outputs": [
    {
     "data": {
      "text/plain": [
       "(4, 8)"
      ]
     },
     "execution_count": 4,
     "metadata": {},
     "output_type": "execute_result"
    }
   ],
   "source": [
    "#非効率的な方法\n",
    "import itertools\n",
    "def ants_1(L, n, x):\n",
    "    min_time = float(\"inf\")\n",
    "    max_time = 0\n",
    "    #左を向いている場合は1,右を向いている場合は0とする\n",
    "    for i in itertools.product([0,1], repeat=n):\n",
    "        #jにはantsの左右の向きが格納されている\n",
    "        time_list = []\n",
    "        for ind,j in enumerate(list(i)):\n",
    "            if j:\n",
    "                time_list.append(x[ind])\n",
    "            else:\n",
    "                time_list.append(L-x[ind])\n",
    "        time = max(time_list)\n",
    "        min_time = min(min_time, time)\n",
    "        max_time = max(max_time, time)\n",
    "    return min_time, max_time\n",
    "ants_1(L, n, x)"
   ]
  },
  {
   "cell_type": "code",
   "execution_count": 5,
   "metadata": {},
   "outputs": [
    {
     "data": {
      "text/plain": [
       "(4, 8)"
      ]
     },
     "execution_count": 5,
     "metadata": {},
     "output_type": "execute_result"
    }
   ],
   "source": [
    "#効率的な方法\n",
    "def ants_2(L, n, x):\n",
    "    # 最小の時間を計算\n",
    "    min_T = 0\n",
    "    for i in range(n):\n",
    "        min_T = max(min_T, min(x[i], L-x[i]))\n",
    "        \n",
    "    # 最大の時間を計算\n",
    "    max_T = 0\n",
    "    for i in range(n):\n",
    "        max_T = max(max_T, max(x[i], L-x[i]))\n",
    "        \n",
    "    return min_T, max_T\n",
    "ants_2(L, n, x)"
   ]
  },
  {
   "cell_type": "markdown",
   "metadata": {},
   "source": [
    "## ハードルが上がった「くじ引き」"
   ]
  },
  {
   "cell_type": "markdown",
   "metadata": {},
   "source": [
    "$n^3\\log{n}$"
   ]
  },
  {
   "cell_type": "code",
   "execution_count": 98,
   "metadata": {},
   "outputs": [
    {
     "name": "stdout",
     "output_type": "stream",
     "text": [
      "3\n",
      "10\n",
      "2 3 5\n"
     ]
    }
   ],
   "source": [
    "n = int(input())\n",
    "m = int(input())\n",
    "k = input().split()\n",
    "k = [int(i) for i in k]"
   ]
  },
  {
   "cell_type": "code",
   "execution_count": 99,
   "metadata": {},
   "outputs": [
    {
     "name": "stdout",
     "output_type": "stream",
     "text": [
      "Yes\n"
     ]
    }
   ],
   "source": [
    "def binary_search(k,x):\n",
    "    left = 0\n",
    "    right = len(k)\n",
    "    \n",
    "    while right-left >= 1:\n",
    "        i = (left + right) // 2\n",
    "        if k[i] == x:\n",
    "            return True\n",
    "        elif k[i] < x:\n",
    "            left = i + 1\n",
    "        else:\n",
    "            right = i\n",
    "    return False\n",
    "\n",
    "def kujibiki_binary(n, m, k):\n",
    "    # O(nlogn)\n",
    "    k.sort()\n",
    "    \n",
    "    # O(n^3 logn)\n",
    "    f = False\n",
    "    for a in range(n):\n",
    "        for b in range(n):\n",
    "            for c in range(n):\n",
    "                # O(logn)\n",
    "                if binary_search(k, m - (k[a] + k[b] + k[c])):\n",
    "                    f = True\n",
    "    if f:\n",
    "        print(\"Yes\")\n",
    "    else:\n",
    "        print(\"No\")\n",
    "kujibiki_binary(n, m, k)"
   ]
  },
  {
   "cell_type": "markdown",
   "metadata": {},
   "source": [
    "$n^2\\log{n}$"
   ]
  },
  {
   "cell_type": "code",
   "execution_count": 49,
   "metadata": {},
   "outputs": [
    {
     "name": "stdout",
     "output_type": "stream",
     "text": [
      "Yes\n"
     ]
    }
   ],
   "source": [
    "import itertools\n",
    "\n",
    "def binary_search(k,x):\n",
    "    left = 0\n",
    "    right = len(k)\n",
    "    \n",
    "    while right-left >= 1:\n",
    "        i = (left + right) // 2\n",
    "        if k[i] == x:\n",
    "            return True\n",
    "        elif k[i] < x:\n",
    "            left = i + 1\n",
    "        else:\n",
    "            right = i\n",
    "    return False\n",
    "\n",
    "def kujibiki_binary_2(n, m, k):\n",
    "    # CとDを組み合わせてできる数の組合せを保存\n",
    "    # O(n^2)\n",
    "    kk = [sum(comb) for comb in list(itertools.combinations(k,2))]\n",
    "    # O(nlogn)\n",
    "    kk.sort()\n",
    "      \n",
    "    # O(n^2 logn)\n",
    "    f = False\n",
    "    for a in range(n):\n",
    "        for b in range(n):\n",
    "                # O(logn)\n",
    "                if binary_search(kk, m - (k[a] + k[b])):\n",
    "                    f = True\n",
    "    if f:\n",
    "        print(\"Yes\")\n",
    "    else:\n",
    "        print(\"No\")\n",
    "kujibiki_binary_2(n, m, k)"
   ]
  },
  {
   "cell_type": "markdown",
   "metadata": {},
   "source": [
    "# 計算時間実験"
   ]
  },
  {
   "cell_type": "code",
   "execution_count": 58,
   "metadata": {},
   "outputs": [
    {
     "name": "stdout",
     "output_type": "stream",
     "text": [
      "Yes\n",
      "CPU times: user 3.8 ms, sys: 889 µs, total: 4.69 ms\n",
      "Wall time: 5.36 ms\n",
      "Yes\n",
      "CPU times: user 2.26 ms, sys: 129 µs, total: 2.39 ms\n",
      "Wall time: 2.49 ms\n",
      "Yes\n",
      "CPU times: user 669 µs, sys: 70 µs, total: 739 µs\n",
      "Wall time: 742 µs\n"
     ]
    }
   ],
   "source": [
    "import random\n",
    "import time\n",
    "\n",
    "l = list(range(100))\n",
    "\n",
    "n = 10\n",
    "m = random.randint(0,100)\n",
    "k = random.sample(l, n)\n",
    "\n",
    "%time kujibiki(n, m, k)\n",
    "%time kujibiki_binary(n, m, k)\n",
    "%time kujibiki_binary_2(n, m, k)"
   ]
  },
  {
   "cell_type": "code",
   "execution_count": 108,
   "metadata": {
    "scrolled": true
   },
   "outputs": [
    {
     "data": {
      "application/vnd.jupyter.widget-view+json": {
       "model_id": "360dc2f19cb4462dbbd06965c36a495d",
       "version_major": 2,
       "version_minor": 0
      },
      "text/plain": [
       "HBox(children=(IntProgress(value=0, max=8), HTML(value='')))"
      ]
     },
     "metadata": {},
     "output_type": "display_data"
    },
    {
     "name": "stdout",
     "output_type": "stream",
     "text": [
      "No\n",
      "No\n",
      "No\n",
      "No\n",
      "No\n",
      "No\n",
      "No\n",
      "No\n",
      "No\n",
      "No\n",
      "No\n",
      "No\n",
      "No\n",
      "No\n",
      "No\n",
      "No\n",
      "No\n",
      "No\n",
      "No\n",
      "No\n",
      "No\n",
      "No\n",
      "No\n",
      "No\n",
      "No\n",
      "No\n",
      "No\n",
      "No\n",
      "No\n",
      "No\n",
      "No\n",
      "No\n",
      "No\n",
      "No\n",
      "No\n",
      "No\n",
      "No\n",
      "No\n",
      "No\n",
      "No\n",
      "No\n",
      "No\n",
      "No\n",
      "No\n",
      "No\n",
      "No\n",
      "No\n",
      "No\n",
      "No\n",
      "No\n",
      "No\n",
      "Yes\n",
      "Yes\n",
      "Yes\n",
      "No\n",
      "No\n",
      "No\n",
      "No\n",
      "No\n",
      "No\n",
      "No\n",
      "No\n",
      "No\n",
      "No\n",
      "No\n",
      "No\n",
      "No\n",
      "No\n",
      "No\n",
      "No\n",
      "No\n",
      "No\n",
      "No\n",
      "No\n",
      "No\n",
      "No\n",
      "No\n",
      "No\n",
      "No\n",
      "No\n",
      "No\n",
      "No\n",
      "No\n",
      "No\n",
      "Yes\n",
      "Yes\n",
      "Yes\n",
      "No\n",
      "No\n",
      "No\n",
      "No\n",
      "No\n",
      "No\n",
      "No\n",
      "No\n",
      "No\n",
      "No\n",
      "No\n",
      "No\n",
      "No\n",
      "No\n",
      "No\n",
      "No\n",
      "No\n",
      "No\n",
      "No\n",
      "No\n",
      "No\n",
      "No\n",
      "No\n",
      "No\n",
      "No\n",
      "No\n",
      "No\n",
      "No\n",
      "No\n",
      "No\n",
      "No\n",
      "No\n",
      "No\n",
      "\n"
     ]
    }
   ],
   "source": [
    "from tqdm import tqdm_notebook as tqdm\n",
    "\n",
    "ns = list(range(10,81,10))\n",
    "m = random.randint(0,100)\n",
    "\n",
    "time1 = []\n",
    "time2 = []\n",
    "time3 = []\n",
    "\n",
    "for n in tqdm(ns):\n",
    "    l = list(range(n*10))\n",
    "    t1 = []\n",
    "    t2 = []\n",
    "    t3 = []\n",
    "    for i in range(5):\n",
    "        k = random.sample(l, n)\n",
    "        start = time.time()\n",
    "        kujibiki(n, m, k)\n",
    "        end = time.time()\n",
    "        t1.append(end-start)\n",
    "\n",
    "        start = time.time()\n",
    "        kujibiki_binary(n, m, k)\n",
    "        end = time.time()\n",
    "        t2.append(end-start)\n",
    "\n",
    "        start = time.time()\n",
    "        kujibiki_binary_2(n, m, k)\n",
    "        end = time.time()\n",
    "        t3.append(end-start)\n",
    "    time1.append(sum(t1)/5)\n",
    "    time2.append(sum(t2)/5)\n",
    "    time3.append(sum(t3)/5)"
   ]
  },
  {
   "cell_type": "code",
   "execution_count": 109,
   "metadata": {},
   "outputs": [],
   "source": [
    "import matplotlib.pyplot as plt\n",
    "import pandas as pd\n",
    "%matplotlib inline"
   ]
  },
  {
   "cell_type": "code",
   "execution_count": 110,
   "metadata": {},
   "outputs": [
    {
     "data": {
      "image/png": "[encoded data removed]",
      "text/plain": [
       "<Figure size 432x288 with 1 Axes>"
      ]
     },
     "metadata": {
      "needs_background": "light"
     },
     "output_type": "display_data"
    }
   ],
   "source": [
    "df = pd.DataFrame({\"n^3\":time1,\"n^3logn\":time2,\"n^2logn\":time3})\n",
    "\n",
    "plt.plot(ns,df)\n",
    "plt.show()"
   ]
  },
  {
   "cell_type": "code",
   "execution_count": 118,
   "metadata": {
    "scrolled": true
   },
   "outputs": [
    {
     "data": {
      "application/vnd.jupyter.widget-view+json": {
       "model_id": "efaf38c371db4037a2f8a2094569ad25",
       "version_major": 2,
       "version_minor": 0
      },
      "text/plain": [
       "HBox(children=(IntProgress(value=0, max=10), HTML(value='')))"
      ]
     },
     "metadata": {},
     "output_type": "display_data"
    },
    {
     "name": "stdout",
     "output_type": "stream",
     "text": [
      "100\n",
      "Yes\n",
      "Yes\n",
      "200\n",
      "Yes\n",
      "Yes\n",
      "300\n",
      "No\n",
      "No\n",
      "400\n",
      "Yes\n",
      "Yes\n",
      "500\n",
      "No\n",
      "No\n",
      "600\n",
      "Yes\n",
      "Yes\n",
      "700\n",
      "No\n",
      "No\n",
      "800\n",
      "Yes\n",
      "Yes\n",
      "900\n",
      "Yes\n",
      "Yes\n",
      "1000\n",
      "Yes\n",
      "Yes\n",
      "\n"
     ]
    }
   ],
   "source": [
    "ns_2 = list(range(100,1001,100))\n",
    "m = random.randint(0,100)\n",
    "\n",
    "time2_2 = []\n",
    "time3_2 = []\n",
    "\n",
    "for n in tqdm(ns_2):\n",
    "    print(n)\n",
    "    l = list(range(n*10))\n",
    "    t2 = []\n",
    "    t3 = []\n",
    "    for i in range(1):\n",
    "        k = random.sample(l, n)\n",
    "        start = time.time()\n",
    "        kujibiki_binary(n, m, k)\n",
    "        end = time.time()\n",
    "        t2.append(end-start)\n",
    "\n",
    "        start = time.time()\n",
    "        kujibiki_binary_2(n, m, k)\n",
    "        end = time.time()\n",
    "        t3.append(end-start)\n",
    "    time2_2.append(sum(t2)/1)\n",
    "    time3_2.append(sum(t3)/1)"
   ]
  },
  {
   "cell_type": "code",
   "execution_count": 119,
   "metadata": {},
   "outputs": [
    {
     "data": {
      "image/png": "[encoded data removed]",
      "text/plain": [
       "<Figure size 432x288 with 1 Axes>"
      ]
     },
     "metadata": {
      "needs_background": "light"
     },
     "output_type": "display_data"
    }
   ],
   "source": [
    "df2 = pd.DataFrame({\"n^3logn\":time2_2,\"n^2logn\":time3_2})\n",
    "\n",
    "plt.plot(ns_2,df2)\n",
    "plt.show()"
   ]
  },
  {
   "cell_type": "code",
   "execution_count": null,
   "metadata": {},
   "outputs": [],
   "source": []
  }
 ],
 "metadata": {
  "kernelspec": {
   "display_name": "Python 3",
   "language": "python",
   "name": "python3"
  },
  "language_info": {
   "codemirror_mode": {
    "name": "ipython",
    "version": 3
   },
   "file_extension": ".py",
   "mimetype": "text/x-python",
   "name": "python",
   "nbconvert_exporter": "python",
   "pygments_lexer": "ipython3",
   "version": "3.7.4"
  }
 },
 "nbformat": 4,
 "nbformat_minor": 2
}
