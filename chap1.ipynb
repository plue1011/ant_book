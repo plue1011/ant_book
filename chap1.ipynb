{
 "cells": [
  {
   "cell_type": "markdown",
   "metadata": {},
   "source": [
    "## 1-1"
   ]
  },
  {
   "cell_type": "markdown",
   "metadata": {},
   "source": [
    "### くじ引き"
   ]
  },
  {
   "cell_type": "code",
   "execution_count": 25,
   "metadata": {},
   "outputs": [
    {
     "name": "stdout",
     "output_type": "stream",
     "text": [
      "3\n",
      "10\n",
      "1 3 5\n"
     ]
    }
   ],
   "source": [
    "n = int(input())\n",
    "m = int(input())\n",
    "k = input().split()\n",
    "k = [int(i) for i in k]"
   ]
  },
  {
   "cell_type": "code",
   "execution_count": 26,
   "metadata": {},
   "outputs": [
    {
     "name": "stdout",
     "output_type": "stream",
     "text": [
      "yes\n"
     ]
    }
   ],
   "source": [
    "def kujibiki(n, m, k):\n",
    "    f = 0\n",
    "    for a in range(n):\n",
    "        for b in range(n):\n",
    "            for c in range(n):\n",
    "                for d in range(n):\n",
    "                    if (k[a] + k[b] + k[c] + k[d]) == m:\n",
    "                        f = 1\n",
    "    if f:\n",
    "        print(\"yes\")\n",
    "kujibiki(n, m, k)"
   ]
  },
  {
   "cell_type": "markdown",
   "metadata": {},
   "source": [
    "## 1-6"
   ]
  },
  {
   "cell_type": "markdown",
   "metadata": {},
   "source": [
    "### 三角形"
   ]
  },
  {
   "cell_type": "code",
   "execution_count": 41,
   "metadata": {},
   "outputs": [
    {
     "name": "stdout",
     "output_type": "stream",
     "text": [
      "5\n",
      "2 3 4 5 10\n"
     ]
    }
   ],
   "source": [
    "n = int(input())\n",
    "a = input().split()\n",
    "a = [int(i) for i in a]"
   ]
  },
  {
   "cell_type": "code",
   "execution_count": 44,
   "metadata": {},
   "outputs": [
    {
     "name": "stdout",
     "output_type": "stream",
     "text": [
      "12\n"
     ]
    }
   ],
   "source": [
    "def tri_max(a, n):\n",
    "    a = sorted(a)\n",
    "    max_len = 0\n",
    "    for i in range(n):\n",
    "        for j in range(i+1,n):\n",
    "            for k in range(j+1,n):\n",
    "                #三角形を形成するのか判定\n",
    "                if a[k] < a[i] + a[j]:\n",
    "                    t = a[k] + a[i] + a[j]\n",
    "                    max_len = max(t, max_len)\n",
    "    print(max_len)\n",
    "tri_max(a, n)"
   ]
  },
  {
   "cell_type": "markdown",
   "metadata": {},
   "source": [
    "### Ants"
   ]
  },
  {
   "cell_type": "code",
   "execution_count": 53,
   "metadata": {},
   "outputs": [
    {
     "name": "stdout",
     "output_type": "stream",
     "text": [
      "10\n",
      "3\n",
      "2 6 7\n"
     ]
    }
   ],
   "source": [
    "L = int(input())\n",
    "n = int(input())\n",
    "x = input().split()\n",
    "x = [int(i) for i in x]"
   ]
  },
  {
   "cell_type": "code",
   "execution_count": 70,
   "metadata": {},
   "outputs": [
    {
     "data": {
      "text/plain": [
       "(4, 8)"
      ]
     },
     "execution_count": 70,
     "metadata": {},
     "output_type": "execute_result"
    }
   ],
   "source": [
    "#非効率的な方法\n",
    "import itertools\n",
    "def ants_1(L, n, x):\n",
    "    min_time = float(\"inf\")\n",
    "    max_time = 0\n",
    "    #左を向いている場合は1,右を向いている場合は0とする\n",
    "    for i in itertools.product([0,1], repeat=n):\n",
    "        #jにはantsの左右の向きが格納されている\n",
    "        time_list = []\n",
    "        for ind,j in enumerate(list(i)):\n",
    "            if j:\n",
    "                time_list.append(x[ind])\n",
    "            else:\n",
    "                time_list.append(L-x[ind])\n",
    "        time = max(time_list)\n",
    "        min_time = min(min_time, time)\n",
    "        max_time = max(max_time, time)\n",
    "    return min_time, max_time\n",
    "ants_1(L,n,x)"
   ]
  },
  {
   "cell_type": "code",
   "execution_count": null,
   "metadata": {},
   "outputs": [],
   "source": [
    "#効率的な方法\n"
   ]
  }
 ],
 "metadata": {
  "kernelspec": {
   "display_name": "Python 3",
   "language": "python",
   "name": "python3"
  },
  "language_info": {
   "codemirror_mode": {
    "name": "ipython",
    "version": 3
   },
   "file_extension": ".py",
   "mimetype": "text/x-python",
   "name": "python",
   "nbconvert_exporter": "python",
   "pygments_lexer": "ipython3",
   "version": "3.7.4"
  }
 },
 "nbformat": 4,
 "nbformat_minor": 2
}
